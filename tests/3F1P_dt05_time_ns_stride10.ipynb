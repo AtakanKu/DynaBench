{
 "cells": [
  {
   "cell_type": "code",
   "execution_count": null,
   "metadata": {},
   "outputs": [],
   "source": [
    "import DynaBench\n",
    "import os\n",
    "import nglview as ngl\n",
    "import MDAnalysis as mda\n",
    "import pandas as pd"
   ]
  },
  {
   "cell_type": "code",
   "execution_count": null,
   "metadata": {},
   "outputs": [],
   "source": [
    "pdb = os.path.join(os.getcwd(), \"3F1P_input.pdb\")"
   ]
  },
  {
   "cell_type": "code",
   "execution_count": null,
   "metadata": {},
   "outputs": [],
   "source": [
    "mol = DynaBench.dynabench(trajectory_file=pdb, split_models=False,\n",
    "                           job_name='3F1P_dt05_time_ns_stride10_test', show_time_as='Time', timestep=0.5,\n",
    "                            stride=10, time_unit='ns')\n",
    "\n",
    "draw = DynaBench.Plotter(job_name=mol.job_name)"
   ]
  },
  {
   "cell_type": "markdown",
   "metadata": {},
   "source": [
    "## Quality Control"
   ]
  },
  {
   "cell_type": "markdown",
   "metadata": {},
   "source": [
    "### Tables\n",
    "run_quality_control() function will create two csv files. One with RMSD-RG data and the other with RMSF data."
   ]
  },
  {
   "cell_type": "code",
   "execution_count": null,
   "metadata": {},
   "outputs": [],
   "source": [
    "mol.run_quality_control(rmsd_data={'ref_struc':None, 'ref_frame':0})"
   ]
  },
  {
   "cell_type": "markdown",
   "metadata": {},
   "source": [
    "### Visualization\n",
    "\n"
   ]
  },
  {
   "cell_type": "code",
   "execution_count": null,
   "metadata": {},
   "outputs": [],
   "source": [
    "draw.plot_rmsd(path=None)"
   ]
  },
  {
   "cell_type": "code",
   "execution_count": null,
   "metadata": {},
   "outputs": [],
   "source": [
    "draw.plot_rg(path=None)"
   ]
  },
  {
   "cell_type": "markdown",
   "metadata": {},
   "source": [
    "## Residue Based"
   ]
  },
  {
   "cell_type": "markdown",
   "metadata": {},
   "source": [
    "### Tables\n",
    "\n",
    "run_res_based() function will create a csv file with residue based properties - Interface Label, Biophysical Type, rASA and Energy values"
   ]
  },
  {
   "cell_type": "code",
   "execution_count": null,
   "metadata": {},
   "outputs": [],
   "source": [
    "mol.run_res_based(\"foldx_executable_path\")"
   ]
  },
  {
   "cell_type": "code",
   "execution_count": null,
   "metadata": {
    "collapsed": false
   },
   "outputs": [],
   "source": [
    "draw.plot_rmsf(rmsf_path=None, intf_path=None)"
   ]
  },
  {
   "cell_type": "markdown",
   "metadata": {
    "collapsed": false
   },
   "source": [
    "### Visualization"
   ]
  },
  {
   "cell_type": "code",
   "execution_count": null,
   "metadata": {
    "collapsed": false
   },
   "outputs": [],
   "source": [
    "draw.plot_int_energy(thereshold=50.0, res_path=None, intf_path=None)"
   ]
  },
  {
   "cell_type": "code",
   "execution_count": null,
   "metadata": {
    "collapsed": false
   },
   "outputs": [],
   "source": [
    "draw.plot_biophys(path=None)"
   ]
  },
  {
   "cell_type": "code",
   "execution_count": null,
   "metadata": {},
   "outputs": [],
   "source": [
    "draw.plot_SASA()"
   ]
  },
  {
   "cell_type": "code",
   "execution_count": null,
   "metadata": {},
   "outputs": [],
   "source": [
    "def get_scheme_list():\n",
    "    #0=Interior, 1=Surface, 2=Support, 3=Rim, 4=Core\n",
    "    colors = {0:'black', 1:'grey', 2:'blue', 3:'green', 4:'yellow'}\n",
    "\n",
    "    my_dict = dict()\n",
    "    table = pd.read_csv(\"3F1P_dt05_time_ns_stride10_test/tables/interface_label_perc.csv\")\n",
    "    table_groupped = table.groupby('Chain')\n",
    "    for g in table_groupped.groups:\n",
    "        my_table = table_groupped.get_group(g)\n",
    "        for r in my_table.iterrows():\n",
    "            if r[1][\"Interface Label\"] not in my_dict.keys():\n",
    "                my_dict[r[1][\"Interface Label\"]] = list()\n",
    "            my_dict[r[1][\"Interface Label\"]].append(r[1][\"Residue\"][3:]+':'+g)\n",
    "\n",
    "    scheme_list = list()\n",
    "    for keys,values in my_dict.items():\n",
    "        mstr = \" or \".join(values)\n",
    "        scheme_list.append([colors[keys], mstr])\n",
    "    return scheme_list"
   ]
  },
  {
   "cell_type": "code",
   "execution_count": null,
   "metadata": {},
   "outputs": [],
   "source": [
    "u = mda.Universe(\"3F1P_dt05_time_ns_stride10_test/3F1P_input_stride10.pdb\")\n",
    "v = ngl.show_mdanalysis(u)\n",
    "\n",
    "scheme_list = get_scheme_list()\n",
    "scheme = ngl.color._ColorScheme(scheme_list, \"deneme\")\n",
    "\n",
    "v.clear()\n",
    "v.add_representation('tube', color=scheme)\n",
    "v"
   ]
  },
  {
   "cell_type": "markdown",
   "metadata": {},
   "source": [
    "## Interaction Based"
   ]
  },
  {
   "cell_type": "markdown",
   "metadata": {},
   "source": [
    "### Table\n",
    "\n",
    "run_inter_based() function will create a csv file with Hydrogen Bonds, Hydrophobic Bonds and Ionic Bonds information."
   ]
  },
  {
   "cell_type": "code",
   "execution_count": null,
   "metadata": {},
   "outputs": [],
   "source": [
    "mol.run_inter_based()"
   ]
  },
  {
   "cell_type": "markdown",
   "metadata": {},
   "source": [
    "### Visualization"
   ]
  },
  {
   "cell_type": "code",
   "execution_count": null,
   "metadata": {},
   "outputs": [],
   "source": [
    "draw.plot_pairwise_freq(path=None)"
   ]
  },
  {
   "cell_type": "code",
   "execution_count": null,
   "metadata": {},
   "outputs": [],
   "source": [
    "mol._get_params_()"
   ]
  },
  {
   "cell_type": "code",
   "execution_count": null,
   "metadata": {},
   "outputs": [],
   "source": [
    "draw._get_params_()"
   ]
  }
 ],
 "metadata": {
  "kernelspec": {
   "display_name": "dynabench",
   "language": "python",
   "name": "python3"
  },
  "language_info": {
   "codemirror_mode": {
    "name": "ipython",
    "version": 3
   },
   "file_extension": ".py",
   "mimetype": "text/x-python",
   "name": "python",
   "nbconvert_exporter": "python",
   "pygments_lexer": "ipython3",
   "version": "3.8.17"
  }
 },
 "nbformat": 4,
 "nbformat_minor": 1
}
